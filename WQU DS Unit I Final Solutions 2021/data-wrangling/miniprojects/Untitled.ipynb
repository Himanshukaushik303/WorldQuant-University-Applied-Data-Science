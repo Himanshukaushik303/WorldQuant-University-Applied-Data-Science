{
 "cells": [
  {
   "cell_type": "markdown",
   "metadata": {},
   "source": [
    "# Sales"
   ]
  },
  {
   "cell_type": "code",
   "execution_count": 6,
   "metadata": {},
   "outputs": [
    {
     "name": "stdout",
     "output_type": "stream",
     "text": [
      "The quarter totals are Q1: 100, Q2: 500, Q3: 330\n"
     ]
    }
   ],
   "source": [
    "months = [100, 100, 150, 250 , 300, 10, 20]\n",
    "quarter = 0\n",
    "quarters = []\n",
    "index = 0\n",
    "\n",
    "for sales in months:\n",
    "  quarter += sales\n",
    "\n",
    "  if index % 3 == 0 or index == len(months):\n",
    "    quarters.append(quarter)\n",
    "    quarter = 0\n",
    "\n",
    "  index = index + 1\n",
    "\n",
    "print(\"The quarter totals are Q1: {}, Q2: {}, Q3: {}\".format(quarters[0], quarters[1], quarters[2]))\n"
   ]
  },
  {
   "cell_type": "code",
   "execution_count": 5,
   "metadata": {},
   "outputs": [
    {
     "name": "stdout",
     "output_type": "stream",
     "text": [
      "The quarter totals are Q1: 350, Q2: 560, Q3: 20\n"
     ]
    }
   ],
   "source": [
    "# Month sales data\n",
    "month_sales = [100, 100, 150, 250, 300, 10, 20]\n",
    "# Empty list to hold quarter data\n",
    "quarter_sales = []\n",
    "# Current quarter iteration data\n",
    "quarter = 0\n",
    "\n",
    "# Iterate over monthly sales\n",
    "for index, sale in enumerate(month_sales):\n",
    "    # Add month's sales to running total for the quarter\n",
    "    quarter += sale\n",
    "    # If last month of quarter or end of list\n",
    "    if (index + 1) % 3 == 0 or index == len(month_sales) - 1:\n",
    "        # Add quarter sales data to new list and start over\n",
    "        quarter_sales.append(quarter)\n",
    "        quarter = 0\n",
    "\n",
    "print(f\"The quarter totals are Q1: {quarter_sales[0]}, Q2: {quarter_sales[1]}, Q3: {quarter_sales[2]}\")"
   ]
  }
 ],
 "metadata": {
  "kernelspec": {
   "display_name": "Python 3",
   "language": "python",
   "name": "python3"
  },
  "language_info": {
   "codemirror_mode": {
    "name": "ipython",
    "version": 3
   },
   "file_extension": ".py",
   "mimetype": "text/x-python",
   "name": "python",
   "nbconvert_exporter": "python",
   "pygments_lexer": "ipython3",
   "version": "3.7.3"
  }
 },
 "nbformat": 4,
 "nbformat_minor": 2
}
